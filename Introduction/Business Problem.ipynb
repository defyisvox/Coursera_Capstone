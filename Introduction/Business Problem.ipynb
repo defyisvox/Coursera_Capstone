{
    "cells": [
        {
            "metadata": {
                "collapsed": true
            },
            "cell_type": "markdown",
            "source": "# Introduction/Business Problem"
        },
        {
            "metadata": {},
            "cell_type": "markdown",
            "source": "## Week 4 Part 1:"
        },
        {
            "metadata": {},
            "cell_type": "markdown",
            "source": "### Introduction:"
        },
        {
            "metadata": {},
            "cell_type": "markdown",
            "source": "Toronto is the capital of the province of Ontario. It is a major metropolitan and most populated city in Canada with a population of 6.2 million.\n\nOne of the key features of Toronto's population is its diversity. According to <a href=\"https://worldpopulationreview.com/world-cities/toronto-population\">World Population Review</a>, foreign-born people account for nearly half its population. The North American city celebrates its multicultural heritage with the existence of many ethnic neighborhoods. The identity of a city and its features are imprinted by its people. Toronto's economic and social background are consequently impacted by the great diversity of its population. Visible minority groups engrave their history and background into the very DNA of Toronto through their unique cuisine. "
        },
        {
            "metadata": {},
            "cell_type": "markdown",
            "source": "\n### Business Problem:"
        },
        {
            "metadata": {},
            "cell_type": "markdown",
            "source": "Suppose we wish to open up a restaurant business in Toronto. The city being vast and well diversed can have a great impact on the type of restaurant as well as where it ought to be located.\n\nThere are many factors up for consideration:\n\n    1. Where should this business be located?\n    2. What is the competition make-up for this area?\n    3. Identifying population make-up that may be target demographics\n    4. Identifying a restaurant theme or type"
        },
        {
            "metadata": {},
            "cell_type": "markdown",
            "source": "## Data Section"
        },
        {
            "metadata": {},
            "cell_type": "markdown",
            "source": "### Data Description:\n\nIn week 3, we were able to web scrape data about different boroughs and neighborhoods in Toronto from the following link:\nhttps://en.wikipedia.org/wiki/List_of_postal_codes_of_Canada:_M\n\nFurthermore, we will strongly consider gathering coordinates and zipcodes to supplement our data."
        },
        {
            "metadata": {},
            "cell_type": "markdown",
            "source": "### Foursquare API:\n\nAfter gathering location data, we will consider using Foursquare API to gather information about specific locations. Foursquare should allow us to find data of interest such as venues located within given neighborhoods. We would be able to see what sort of venues are popular in specific locations.\n\nWe should be able to gain information about different venue types that can help us consider the answer to our business problem."
        },
        {
            "metadata": {},
            "cell_type": "markdown",
            "source": "### Population distribution:\n\nIt would be wise to find information about the ethnic make-up of a population wherever we may decide to plant our business. More people could mean more business and cultural identity of a neighborhood could factor in determining the type of restaurant to go with."
        },
        {
            "metadata": {},
            "cell_type": "code",
            "source": "",
            "execution_count": null,
            "outputs": []
        }
    ],
    "metadata": {
        "kernelspec": {
            "name": "python3",
            "display_name": "Python 3.7",
            "language": "python"
        },
        "language_info": {
            "name": "python",
            "version": "3.7.9",
            "mimetype": "text/x-python",
            "codemirror_mode": {
                "name": "ipython",
                "version": 3
            },
            "pygments_lexer": "ipython3",
            "nbconvert_exporter": "python",
            "file_extension": ".py"
        }
    },
    "nbformat": 4,
    "nbformat_minor": 1
}